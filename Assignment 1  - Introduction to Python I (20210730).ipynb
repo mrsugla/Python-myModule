{
 "cells": [
  {
   "cell_type": "code",
   "execution_count": 2,
   "id": "a2cbded9",
   "metadata": {},
   "outputs": [
    {
     "name": "stdout",
     "output_type": "stream",
     "text": [
      "The word \"CASUAL\" has vowels : True\n"
     ]
    }
   ],
   "source": [
    "# 1. Write a function names vowel() to check whether given word contains vowel\n",
    "\n",
    "def vowel_check(word):\n",
    "            \n",
    "        word = word.upper()\n",
    "        value = 'False'\n",
    "        vowels = ('A','E','I','O','U')\n",
    "        \n",
    "        for x in word:\n",
    "            if x in vowels:\n",
    "                value = 'True'\n",
    "                break\n",
    "        print(f'The word \"{word}\" has vowels : {value}')\n",
    "    \n",
    "        \n",
    "vowel_check('Casual')\n",
    "\n"
   ]
  },
  {
   "cell_type": "code",
   "execution_count": 3,
   "id": "c93c424b",
   "metadata": {},
   "outputs": [
    {
     "name": "stdout",
     "output_type": "stream",
     "text": [
      "The original string  is :  This is going to be reversed\n",
      "The reversed string is :  desrever eb ot gniog si sihT\n"
     ]
    }
   ],
   "source": [
    "# 2. Function to reverse a string\n",
    "\n",
    "word=[]\n",
    "\n",
    "def reverse(word):\n",
    "\n",
    "    print('The original string  is : ', end= ' ')\n",
    "    print (word)\n",
    "  \n",
    "    word = word[::-1]\n",
    "    \n",
    "    print('The reversed string is : ', end=' ')\n",
    "    print (word)\n",
    "\n",
    "reverse('This is going to be reversed')"
   ]
  },
  {
   "cell_type": "code",
   "execution_count": 1,
   "id": "1bee57ab",
   "metadata": {},
   "outputs": [
    {
     "name": "stdout",
     "output_type": "stream",
     "text": [
      "The maximum and minimum number is (8, 2) in the list [2, 3, 4, 8, 7, 2, 5, 6, 7]\n"
     ]
    }
   ],
   "source": [
    "# 3. Write a function named max_and_min() that takes a tuple and returns the maximum and minimum number\n",
    "\n",
    "nums=()\n",
    "\n",
    "def max_and_min(nums):\n",
    "    \n",
    "    for n in nums:\n",
    "        print(f'The maximum and minimum number is {(max(nums),min(nums))} in the list {nums}')\n",
    "        break\n",
    "\n",
    "max_and_min([2,3,4,8,7,2,5,6,7])\n"
   ]
  },
  {
   "cell_type": "code",
   "execution_count": 5,
   "id": "8d8b371a",
   "metadata": {},
   "outputs": [
    {
     "name": "stdout",
     "output_type": "stream",
     "text": [
      "CIV\n",
      "The word CIVIC is Palindrome\n"
     ]
    }
   ],
   "source": [
    "# 4. Write a function named palindrome that checks whether the string is a palindrome or not \n",
    "\n",
    "\n",
    "\n",
    "def palindrome(s):\n",
    "    \n",
    "    first = 0\n",
    "    last = len(s)-1\n",
    "    answer = 'Palindrome'\n",
    "    s = s.upper()\n",
    "          \n",
    "    while first < len(s)/2:\n",
    "       \n",
    "        if(s[first] == s[last]):\n",
    "            first += 1\n",
    "            last -= 1\n",
    "            continue\n",
    "            \n",
    "        else:\n",
    "        \n",
    "            answer='not a Palindrome'\n",
    "            break\n",
    "           \n",
    "    print(f'The word {s} is {answer}')\n",
    "            \n",
    "palindrome('Civic') "
   ]
  },
  {
   "cell_type": "code",
   "execution_count": 4,
   "id": "e72505d5",
   "metadata": {},
   "outputs": [
    {
     "name": "stdout",
     "output_type": "stream",
     "text": [
      "p\n"
     ]
    }
   ],
   "source": [
    "def palindrome(s):\n",
    "    if s == s[::-1]:\n",
    "        print('p')\n",
    "    else:\n",
    "        print('no p')\n",
    "palindrome('olllo')"
   ]
  },
  {
   "cell_type": "code",
   "execution_count": null,
   "id": "7aee9ce3",
   "metadata": {},
   "outputs": [],
   "source": []
  },
  {
   "cell_type": "code",
   "execution_count": null,
   "id": "6a96e792",
   "metadata": {},
   "outputs": [],
   "source": []
  }
 ],
 "metadata": {
  "kernelspec": {
   "display_name": "Python 3",
   "language": "python",
   "name": "python3"
  },
  "language_info": {
   "codemirror_mode": {
    "name": "ipython",
    "version": 3
   },
   "file_extension": ".py",
   "mimetype": "text/x-python",
   "name": "python",
   "nbconvert_exporter": "python",
   "pygments_lexer": "ipython3",
   "version": "3.8.8"
  }
 },
 "nbformat": 4,
 "nbformat_minor": 5
}
